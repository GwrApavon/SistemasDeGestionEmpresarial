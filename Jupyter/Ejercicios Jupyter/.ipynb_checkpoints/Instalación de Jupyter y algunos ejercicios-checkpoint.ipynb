{
 "cells": [
  {
   "cell_type": "markdown",
   "id": "8cf5bb92",
   "metadata": {},
   "source": [
    "# Instalación de Jupyter Notebook y algunos ejercicios\n"
   ]
  },
  {
   "cell_type": "markdown",
   "id": "1c940f41",
   "metadata": {},
   "source": [
    "### ÍNDICE \n",
    " - [INSTALACIÓN](#Instalación)\n",
    " - [Ejercicios Estructura Secuencial](#Ejercicios-Estructura-Secuencial)  \n",
    "    - [Ejercicio 1](#Ejercicio-1-Secuencial)  \n",
    "    - [Ejercicio 2](#Ejercicio-2-Secuencial)  \n",
    " - [Ejercicios Estructura Alternativa](#Ejercicios-Estructura-Alternativa)  \n",
    "     - [Ejercicio 1](#Ejercicio-1-Alternativa)  \n",
    "     - [Ejercicio 2](#Ejercicio-2-Alternativa)  \n",
    " - [Ejercicios Estructura Repetitiva](#Ejercicios-Estructura-Repetitiva)\n",
    "     - [Ejercicio 1](#Ejercicio-1-Repetitiva)\n",
    "     - [Ejercicio 2](#Ejercicio-2-Repetitiva)\n",
    " - [Ejercicios Cadenas](#Ejercicios-Cadenas-de-Carácteres)\n",
    "     - [Ejercicio 1](#Ejercicio-1-Cadenas)\n",
    "     - [Ejercicio 2](#Ejericcio-2-Cadenas)\n",
    " - [Ejercicios Listas](#Ejercicios-Listas)\n",
    "     - [Ejercicio 1](#Ejercicio-1-Listas)\n",
    "     - [Ejercicio 2](#Ejericcio-2-Listas)\n",
    "     - [Ejercicio 3](#Ejercicio-3-Listas)\n",
    " - [Ejercicios Diccionarios](#Ejercicios-Diccionarios)\n",
    "     - [Ejercicio 1](#Ejercicio-1-Diccionarios)\n",
    "     - [Ejercicio 2](#Ejericcio-2-Diccionarios)\n",
    "     - [Ejercicio 3](#Ejercicio-3-Diccionarios)\n",
    "     - [Ejercicio 4](#Ejercicio-4-Diccionarios)\n",
    " - [Ejercicios Funciones](#Ejercicios-Funciones)\n",
    "     - [Ejercicio 1](#Ejercicio-1-Funciones)\n",
    "     - [Ejercicio 2](#Ejericcio-2-Funciones)\n",
    " - [Ejercicios Extra](#Otros-Ejercicios)\n",
    "     - [Ejercicio 1](#Ejercicio-1-Extras)\n",
    "     - [Ejercicio 2](#Ejericcio-2-Extras)"
   ]
  },
  {
   "cell_type": "markdown",
   "id": "27580863",
   "metadata": {},
   "source": [
    "## Instalación\n",
    "Nos aseguraremos de que tenemos python añadido al path de Windows. \n",
    "<br>\n",
    "Después de esto instalaremos el gestor de paquetes pip del siguiente modo:\n",
    "<br>\n",
    "`\n",
    "curl https://bootstrap.pypa.io/get-pip.py> get-pip.py\n",
    "`\n",
    "<br>\n",
    "Una vez descargado el archivo ejecutamos:\n",
    "<br>\n",
    "`\n",
    "python get-pip.py\n",
    "`\n",
    "<br>\n",
    "A continuación, será la hora de instalar Jupyter Notebook, para ello, escribimos la siguiente instrucción:\n",
    "<br>\n",
    "`\n",
    "pip install jupyter\n",
    "`\n",
    "<br>\n",
    "Mediante esta instrucción, Phyton descargará las librerías necesarias para utilizar Jupyter.\n",
    "Una vez descargadas todas las librerías, para usar Jupyter, ejecutaremos la instrucción:\n",
    "<br>\n",
    "`\n",
    "jupyter notebook\n",
    "`"
   ]
  },
  {
   "cell_type": "markdown",
   "id": "662b50ea",
   "metadata": {},
   "source": [
    "### Ejercicios Estructura Secuencial"
   ]
  },
  {
   "cell_type": "markdown",
   "id": "3cdf0a44",
   "metadata": {},
   "source": [
    "#### Ejercicio 1 Secuencial\n",
    "Ejercicio 7 de los apuntes:  \n",
    "Realiza un programa que reciba una cantidad de minutos y muestre por pantalla a cuantas horas y minutos corresponde. Por ejemplo: 1000 minutos corresponde a 16 horas y 40 minutos."
   ]
  },
  {
   "cell_type": "code",
   "execution_count": 1,
   "id": "96c8c51d",
   "metadata": {},
   "outputs": [
    {
     "name": "stdout",
     "output_type": "stream",
     "text": [
      "Introduce una cantidad de minutos: 1000\n",
      "1000 minutos son:  16 horas y  40 minutos\n"
     ]
    }
   ],
   "source": [
    "minutos = int(input('Introduce una cantidad de minutos: '))\n",
    "print (minutos, 'minutos son: ' , (minutos // 60), 'horas y ', minutos % 60, 'minutos')"
   ]
  },
  {
   "cell_type": "markdown",
   "id": "7c4be088",
   "metadata": {},
   "source": [
    "#### Ejercicio 2 Secuencial\n",
    "Ejercicio 18 de los apuntes:   \n",
    "Pedir el nombre y los dos apellidos de una persona y mostrar las iniciales."
   ]
  },
  {
   "cell_type": "code",
   "execution_count": 3,
   "id": "fc52d07c",
   "metadata": {},
   "outputs": [
    {
     "name": "stdout",
     "output_type": "stream",
     "text": [
      "Introduce tu nombre: Ángel\n",
      "Introduce tu primer apellido: Pavón\n",
      "Introduce tu segundo apellido: Fraile\n",
      "Las iniciales de tu nombre son:  Á P F\n"
     ]
    }
   ],
   "source": [
    "nombre = str(input('Introduce tu nombre: '))\n",
    "a1 = str(input('Introduce tu primer apellido: '))\n",
    "a2 = str(input('Introduce tu segundo apellido: '))\n",
    "print('Las iniciales de tu nombre son: ', nombre[0], a1[0], a2[0] )"
   ]
  },
  {
   "cell_type": "markdown",
   "id": "01e8ad31",
   "metadata": {},
   "source": [
    "### Ejercicios Estructura Alternativa"
   ]
  },
  {
   "cell_type": "markdown",
   "id": "8c950eb4",
   "metadata": {},
   "source": [
    "#### Ejercicio 1 Alternativa\n",
    "Ejercicio 6 de los apuntes:  \n",
    "Programa que lea una cadena por teclado y compruebe si es una letra mayúscula."
   ]
  },
  {
   "cell_type": "code",
   "execution_count": 12,
   "id": "ec636e42",
   "metadata": {},
   "outputs": [
    {
     "name": "stdout",
     "output_type": "stream",
     "text": [
      "Introduce una palabra: palabra\n",
      "La letra es minúscula\n"
     ]
    }
   ],
   "source": [
    "palabra = str(input('Introduce una palabra: '))\n",
    "if palabra[0]>='A' and palabra[0] <= 'Z':\n",
    "    print('La letra es mayúscula')\n",
    "else:\n",
    "    print('La letra es minúscula')"
   ]
  },
  {
   "cell_type": "markdown",
   "id": "9a7803ab",
   "metadata": {},
   "source": [
    "#### Ejercicio 2 Alternativa\n",
    "Ejercicio 9 de los apuntes:  \n",
    "Algoritmo que pida tres números y los muestre ordenados (de mayor a menor)."
   ]
  },
  {
   "cell_type": "code",
   "execution_count": 26,
   "id": "8466da8f",
   "metadata": {},
   "outputs": [
    {
     "name": "stdout",
     "output_type": "stream",
     "text": [
      "Introduce el primer número: 9\n",
      "Introduce el segundo número: 6\n",
      "Introduce el tercer número: 4\n",
      "9 6 4\n"
     ]
    }
   ],
   "source": [
    "num1 = int(input('Introduce el primer número: '))\n",
    "num2 = int(input('Introduce el segundo número: '))\n",
    "num3 = int(input('Introduce el tercer número: '))\n",
    "\n",
    "if num1 > num2 and num2 > num3:\n",
    "    print(num1 , num2 , num3)\n",
    "elif num1 > num3 and num2 < num3:\n",
    "    print(num1, num3, num2)\n",
    "elif num1 < num2 and num1 > num3:\n",
    "    print(num2, num1, num3)\n",
    "elif num1 < num3 and num2 > num3:\n",
    "    print(num2 , num3 , num1)\n",
    "elif num1 < num3 and num1 < num2:\n",
    "    print(num3 , num2 , num1)\n",
    "else:\n",
    "    print(num3 , num1, num2)\n"
   ]
  },
  {
   "cell_type": "markdown",
   "id": "3b06c082",
   "metadata": {},
   "source": [
    "### Ejercicios Estructura Repetitiva "
   ]
  },
  {
   "cell_type": "markdown",
   "id": "647554ad",
   "metadata": {},
   "source": [
    "#### Ejercicio 1 Repetitiva\n",
    "Ejercicio 4 de los apuntes:  \n",
    "Realizar un algoritmo que pida números (se pedirá por teclado la cantidad de números a introducir). El programa debe informar de cuantos números introducidos son mayores que 0, menores que 0 e iguales a 0."
   ]
  },
  {
   "cell_type": "markdown",
   "id": "7943cbc9",
   "metadata": {},
   "source": [
    "#### For:"
   ]
  },
  {
   "cell_type": "code",
   "execution_count": 35,
   "id": "00a3651a",
   "metadata": {},
   "outputs": [
    {
     "name": "stdout",
     "output_type": "stream",
     "text": [
      "Introduce cuantos números quieres: 6\n",
      "Introduce un número: -2\n",
      "Introduce un número: -1\n",
      "Introduce un número: 0\n",
      "Introduce un número: 0\n",
      "Introduce un número: 1\n",
      "Introduce un número: 2\n",
      "Números mayores que 0:  2 ; Números menores que 0:  2 ; Números iguales a 0 2\n"
     ]
    }
   ],
   "source": [
    "cant = int(input('Introduce cuantos números quieres: '))\n",
    "mayor = 0 \n",
    "menor = 0\n",
    "igual = 0\n",
    "for i in range (0,cant):\n",
    "    num = int(input('Introduce un número: '))\n",
    "    if num > 0:\n",
    "        mayor += 1\n",
    "    elif num == 0:\n",
    "        igual += 1\n",
    "    else: \n",
    "        menor += 1\n",
    "    \n",
    "print ('Números mayores que 0: ',mayor, '; Números menores que 0: ',menor,'; Números iguales a 0' ,igual)"
   ]
  },
  {
   "cell_type": "markdown",
   "id": "367d287d",
   "metadata": {},
   "source": [
    "#### While:"
   ]
  },
  {
   "cell_type": "code",
   "execution_count": 69,
   "id": "def85cf1",
   "metadata": {},
   "outputs": [
    {
     "name": "stdout",
     "output_type": "stream",
     "text": [
      "Introduce cuantos números quieres: 6\n",
      "Introduce un número: -2\n",
      "Introduce un número: -1\n",
      "Introduce un número: 0\n",
      "Introduce un número: 0\n",
      "Introduce un número: 1\n",
      "Introduce un número: 2\n",
      "Números mayores que 0:  2 ; Números menores que 0:  2 ; Números iguales a 0 2\n"
     ]
    }
   ],
   "source": [
    "cant = int(input('Introduce cuantos números quieres: '))\n",
    "mayor = 0 \n",
    "menor = 0\n",
    "igual = 0\n",
    "i = 0\n",
    "while i < cant:\n",
    "    num = int(input('Introduce un número: '))\n",
    "    if num > 0:\n",
    "        mayor += 1\n",
    "    elif num == 0:\n",
    "        igual += 1\n",
    "    else: \n",
    "        menor += 1\n",
    "    i += 1\n",
    "print ('Números mayores que 0: ',mayor, '; Números menores que 0: ',menor,'; Números iguales a 0' ,igual)"
   ]
  },
  {
   "cell_type": "markdown",
   "id": "c819ea3c",
   "metadata": {},
   "source": [
    "#### Ejercicio 2 Repetitiva\n",
    "Ejercicio 11 de los apuntes:  \n",
    "Escribe un programa que diga si un número introducido por teclado es o no primo. Un número primo es aquel que sólo es divisible entre él mismo y la unidad. Nota: Es suficiente probar hasta la raíz cuadrada del número para ver si es divisible por algún otro número."
   ]
  },
  {
   "cell_type": "markdown",
   "id": "00dea7dd",
   "metadata": {},
   "source": [
    "#### For:"
   ]
  },
  {
   "cell_type": "code",
   "execution_count": 66,
   "id": "23b62c12",
   "metadata": {},
   "outputs": [
    {
     "name": "stdout",
     "output_type": "stream",
     "text": [
      "Introduce un número para saber si es primo: 182471908343\n",
      "El número  182471908343  es primo\n"
     ]
    }
   ],
   "source": [
    "num = int(input('Introduce un número para saber si es primo: '))\n",
    "auxnum = num\n",
    "raiz = int(pow(num,1/2))\n",
    "cont = 0\n",
    "\n",
    "for i in range(2, raiz):\n",
    "\n",
    "    if num%i == 0:\n",
    "        cont += 1\n",
    "    \n",
    "num = auxnum\n",
    "if cont == 0:\n",
    "    print('El número ', num, ' es primo')\n",
    "    \n",
    "else:\n",
    "    print('El número ', num, ' no es primo')"
   ]
  },
  {
   "cell_type": "markdown",
   "id": "58308cb4",
   "metadata": {},
   "source": [
    "#### While:"
   ]
  },
  {
   "cell_type": "code",
   "execution_count": 70,
   "id": "d5b2e5d7",
   "metadata": {},
   "outputs": [
    {
     "name": "stdout",
     "output_type": "stream",
     "text": [
      "Introduce un número para saber si es primo: 127\n",
      "El número  127  es primo\n"
     ]
    }
   ],
   "source": [
    "num = int(input('Introduce un número para saber si es primo: '))\n",
    "auxnum = num\n",
    "raiz = int(pow(num,1/2))\n",
    "cont = 0\n",
    "i = 2\n",
    "while i < raiz:\n",
    "\n",
    "    if num%i == 0:\n",
    "        cont += 1\n",
    "    i += 1\n",
    "num = auxnum\n",
    "if cont == 0:\n",
    "    print('El número ', num, ' es primo')\n",
    "    \n",
    "else:\n",
    "    print('El número ', num, ' no es primo')"
   ]
  },
  {
   "cell_type": "markdown",
   "id": "1678d652",
   "metadata": {},
   "source": [
    "### Ejercicios Cadenas de Carácteres"
   ]
  },
  {
   "cell_type": "markdown",
   "id": "c1d85646",
   "metadata": {},
   "source": [
    "#### Ejercicio 1 Cadenas\n",
    "Ejercicio 9 de los apuntes:  \n",
    "Realizar un programa que compruebe si una cadena contiene una subcadena. Las dos cadenas se introducen por teclado."
   ]
  },
  {
   "cell_type": "code",
   "execution_count": 9,
   "id": "a713192c",
   "metadata": {},
   "outputs": [
    {
     "name": "stdout",
     "output_type": "stream",
     "text": [
      "Introduce la primera cadena: Hola que tal\n",
      "Introduce una palabra para comprobar: tal\n",
      "La palabra si que está en la cadena\n"
     ]
    }
   ],
   "source": [
    "cadena = input('Introduce la primera cadena: ')\n",
    "palabra = input('Introduce una palabra para comprobar: ')\n",
    "\n",
    "contains = False\n",
    "\n",
    "for i in range(len(cadena.split(' '))):\n",
    "    if cadena.split(' ')[i] == palabra:\n",
    "        contains = True;\n",
    "        break\n",
    "\n",
    "if contains == True:\n",
    "    print('La palabra si que está en la cadena')\n",
    "else:\n",
    "    print('La palabra no está en la cadena')"
   ]
  },
  {
   "cell_type": "markdown",
   "id": "c088775d",
   "metadata": {},
   "source": [
    "#### Ejercicio 2 Cadenas\n",
    "Ejercicio 10 de los apuntes:  \n",
    "Introducir una cadena de caracteres e indicar si es un palíndromo. Una palabra palíndroma es aquella que se lee igual adelante que atrás."
   ]
  },
  {
   "cell_type": "code",
   "execution_count": 22,
   "id": "7a96d9c2",
   "metadata": {},
   "outputs": [
    {
     "name": "stdout",
     "output_type": "stream",
     "text": [
      "Introduce palabra: momemom\n",
      "La palabra  momemom  es palíndromo\n"
     ]
    }
   ],
   "source": [
    "palabra = input('Introduce palabra: ')\n",
    "polindromo = False\n",
    "for i in range(int(len(palabra)/2)):\n",
    "    if palabra[i] == palabra[len(palabra)-(i+1)]:\n",
    "        polindromo = True\n",
    "    else:\n",
    "        polindromo = False\n",
    "        break\n",
    "if polindromo == True:\n",
    "    print('La palabra ', palabra, ' es palíndromo') \n",
    "else:\n",
    "    print('La palabra ', palabra, ' no es palíndromo') \n"
   ]
  },
  {
   "cell_type": "markdown",
   "id": "abf62f68",
   "metadata": {},
   "source": [
    "### Ejercicios Listas"
   ]
  },
  {
   "cell_type": "markdown",
   "id": "f07f27a1",
   "metadata": {},
   "source": [
    "#### Ejercicio 1 Listas\n",
    "Ejercicio 3 de los apuntes:  \n",
    "Se quiere realizar un programa que lea por teclado las 5 notas obtenidas por un alumno (comprendidas entre 0 y 10). A continuación debe mostrar todas las notas, la nota media, la nota más alta que ha sacado y la menor.\n"
   ]
  },
  {
   "cell_type": "code",
   "execution_count": 31,
   "id": "bf9b9dd0",
   "metadata": {},
   "outputs": [
    {
     "name": "stdout",
     "output_type": "stream",
     "text": [
      "Introduce una nota: 5\n",
      "Introduce una nota: 4\n",
      "Introduce una nota: 3\n",
      "Introduce una nota: 8\n",
      "Introduce una nota: 1\n",
      "Notas obtenidas:  5 4 3 8 1\n",
      "nota media:  4.2\n",
      "nota más alta:  8\n"
     ]
    }
   ],
   "source": [
    "notas = []\n",
    "for i in range(5):\n",
    "    notas.append(int(input('Introduce una nota: ')))\n",
    "\n",
    "notaMedia = 0\n",
    "notaMasAlta = 0\n",
    "\n",
    "for i in range(len(notas)):\n",
    "    notaMedia += notas[i]\n",
    "    if notas[i]>notaMasAlta:\n",
    "        notaMasAlta = notas[i]\n",
    "\n",
    "      \n",
    "print('Notas obtenidas: ', *notas)\n",
    "print('nota media: ', notaMedia/5)\n",
    "print('nota más alta: ', notaMasAlta)"
   ]
  },
  {
   "cell_type": "markdown",
   "id": "cc3cc787",
   "metadata": {},
   "source": [
    "#### Ejercicio 2 Listas\n",
    "Ejercicio 5 de los apuntes:  \n",
    "Hacer un programa que inicialice una lista de números con valores aleatorios (10 valores), y posterior ordene los elementos de menor a mayor."
   ]
  },
  {
   "cell_type": "code",
   "execution_count": 36,
   "id": "2c53dd42",
   "metadata": {},
   "outputs": [
    {
     "name": "stdout",
     "output_type": "stream",
     "text": [
      "Los números ordenados:  1 3 4 6 6 6 7 8 8 10\n"
     ]
    }
   ],
   "source": [
    "import random\n",
    "lista = []\n",
    "\n",
    "for i in range(10):\n",
    "    lista.append(random.randint(1,10))\n",
    "    \n",
    "lista.sort()\n",
    "\n",
    "print('Los números ordenados: ', *lista)"
   ]
  },
  {
   "cell_type": "markdown",
   "id": "212aea81",
   "metadata": {},
   "source": [
    "#### Ejercicio 3 Listas\n",
    "Ejercicio 11 de los apuntes:  \n",
    "Diseñar el algoritmo correspondiente a un programa, que:\n",
    "\n",
    "- Crea una tabla bidimensional de longitud 5x5 y nombre ‘diagonal’.\n",
    "- Carga la tabla de forma que los componentes pertenecientes a la diagonal de la matriz tomen el valor 1 y el resto el valor 0.\n",
    "- Muestra el contenido de la tabla en pantalla."
   ]
  },
  {
   "cell_type": "code",
   "execution_count": 2,
   "id": "a9a5278b",
   "metadata": {},
   "outputs": [
    {
     "name": "stdout",
     "output_type": "stream",
     "text": [
      "1 0 0 0 0 \n",
      "0 1 0 0 0 \n",
      "0 0 1 0 0 \n",
      "0 0 0 1 0 \n",
      "0 0 0 0 1 \n"
     ]
    }
   ],
   "source": [
    "diagonal = []\n",
    "\n",
    "for n in range(5):\n",
    "    lista = []\n",
    "    for y in range(5):\n",
    "        if(y == n):\n",
    "            lista.append(1)\n",
    "        else:\n",
    "            lista.append(0)\n",
    "    diagonal.append(lista)\n",
    "for i in diagonal:\n",
    "    for x in i:\n",
    "        print (x,end = ' ')\n",
    "    print()\n",
    "    \n",
    "            "
   ]
  },
  {
   "cell_type": "markdown",
   "id": "a22dd98a",
   "metadata": {},
   "source": [
    "### Ejercicios Diccionarios"
   ]
  },
  {
   "cell_type": "markdown",
   "id": "248a600d",
   "metadata": {},
   "source": [
    "#### Ejercicio 1 Diccionarios\n",
    "Ejercicio 1 de los apuntes:  \n",
    "Escribe un programa python que pida un número por teclado y que cree un diccionario cuyas claves sean desde el número 1 hasta el número indicado, y los valores sean los cuadrados de las claves."
   ]
  },
  {
   "cell_type": "code",
   "execution_count": 24,
   "id": "eb515b9b",
   "metadata": {},
   "outputs": [
    {
     "name": "stdout",
     "output_type": "stream",
     "text": [
      "Introduce un número: 10\n",
      "1\n",
      "4\n",
      "9\n",
      "16\n",
      "25\n",
      "36\n",
      "49\n",
      "64\n",
      "81\n",
      "100\n"
     ]
    }
   ],
   "source": [
    "numero = int(input('Introduce un número: '))\n",
    "diccionario = {}\n",
    "for i in range(1,numero+1):\n",
    "    d = {i : i**2}\n",
    "    diccionario.update(d)\n",
    "    \n",
    "for i in range(1, numero+1):\n",
    "    print(diccionario[i])"
   ]
  },
  {
   "cell_type": "markdown",
   "id": "97efc784",
   "metadata": {},
   "source": [
    "#### Ejercicio 2 Diccionarios\n",
    "Ejercicio 2 de los apuntes:  \n",
    "Escribe un programa que lea una cadena y devuelva un diccionario con la cantidad de apariciones de cada carácter en la cadena.\n"
   ]
  },
  {
   "cell_type": "code",
   "execution_count": 28,
   "id": "068fc8a3",
   "metadata": {},
   "outputs": [
    {
     "name": "stdout",
     "output_type": "stream",
     "text": [
      "Introduce una cadena: Hola que tal estas\n",
      "H : 1\n",
      "o : 1\n",
      "l : 2\n",
      "a : 3\n",
      "  : 3\n",
      "q : 1\n",
      "u : 1\n",
      "e : 2\n",
      "t : 2\n",
      "s : 2\n"
     ]
    }
   ],
   "source": [
    "cadena = input('Introduce una cadena: ')\n",
    "dc = {}\n",
    "\n",
    "for char in cadena:\n",
    "    if char in dc:\n",
    "        dc[char] += 1\n",
    "    else:\n",
    "        dc[char] = 1\n",
    "        \n",
    "for campo,valor in dc.items():\n",
    "    print(campo, \":\", valor)"
   ]
  },
  {
   "cell_type": "markdown",
   "id": "7692f3f6",
   "metadata": {},
   "source": [
    "#### Ejercicio 3 Diccionarios\n",
    "Ejercicio 3 de los apuntes:  \n",
    "Vamos a crear un programa en python donde vamos a declarar un diccionario para guardar los precios de las distintas frutas. El programa pedirá el nombre de la fruta y la cantidad que se ha vendido y nos mostrará el precio final de la fruta a partir de los datos guardados en el diccionario. Si la fruta no existe nos dará un error. Tras cada consulta el programa nos preguntará si queremos hacer otra consulta."
   ]
  },
  {
   "cell_type": "code",
   "execution_count": 32,
   "id": "872893fa",
   "metadata": {},
   "outputs": [
    {
     "name": "stdout",
     "output_type": "stream",
     "text": [
      "Que fruta se ha vendido: Manzana\n",
      "Cuantas se han vendido: 4\n",
      "No tenemos esa fruta\n",
      "Quieres hacer otra consulta?si\n",
      "Que fruta se ha vendido: manzana\n",
      "Cuantas se han vendido: 4\n",
      "Dinero obtenido por la venta:  8\n",
      "Quieres hacer otra consulta?no\n"
     ]
    }
   ],
   "source": [
    "pr = {\"manzana\": 2, \"naranja\": 1.5, \"platano\": 4, \"piña\": 3}\n",
    "salir = False;\n",
    "\n",
    "while(not salir):\n",
    "    consultaFruta = input('Que fruta se ha vendido: ')\n",
    "    cantidadVendida = int(input('Cuantas se han vendido: '))\n",
    "    \n",
    "   \n",
    "    if consultaFruta in pr:\n",
    "        print('Dinero obtenido por la venta: ', pr[consultaFruta]*cantidadVendida) \n",
    "    else:\n",
    "        print('No tenemos esa fruta')\n",
    "    \n",
    "    res = input('Quieres hacer otra consulta?')\n",
    "    if res == 'si' or res == 'Si' or res == 'SI':\n",
    "        salir = False\n",
    "    else:\n",
    "        salir = True"
   ]
  },
  {
   "cell_type": "markdown",
   "id": "e7b31277",
   "metadata": {},
   "source": [
    "#### Ejercicio 4 Diccionarios\n",
    "Ejercicio 4 de los apuntes:  \n",
    "Codifica un programa en python que nos permita guardar los nombres de los alumnos de una clase y las notas que han obtenido. Cada alumno puede tener distinta cantidad de notas. Guarda la información en un diccionario cuya claves serán los nombres de los alumnos y los valores serán listas con las notas de cada alumno.\n",
    "\n",
    "El programa pedirá el número de alumnos que vamos a introducir, pedirá su nombre e irá pidiendo sus notas hasta que introduzcamos un número negativo. Al final el programa nos mostrará la lista de alumnos y la nota media obtenida por cada uno de ellos. Nota: si se introduce el nombre de un alumno que ya existe el programa nos dará un error.\n"
   ]
  },
  {
   "cell_type": "code",
   "execution_count": 4,
   "id": "73fe75f7",
   "metadata": {},
   "outputs": [
    {
     "name": "stdout",
     "output_type": "stream",
     "text": [
      "Introduce cuanto alumnos vas a agregar: 2\n",
      "Introduce el nombre del alumno: Pedro\n",
      "Nota: 7\n",
      "Nota: 2\n",
      "Nota: 9\n",
      "Nota: 4\n",
      "Nota: -1\n",
      "Introduce el nombre del alumno: Julia\n",
      "Nota: 7\n",
      "Nota: 9\n",
      "Nota: 9\n",
      "Nota: 6\n",
      "Nota: -1\n",
      "Pedro ha sacado de nota media 5.5\n",
      "Julia ha sacado de nota media 7.75\n"
     ]
    }
   ],
   "source": [
    "cantAlu = int(input('Introduce cuanto alumnos vas a agregar: '))\n",
    "alu = {}\n",
    "for i in range (cantAlu):\n",
    "    nombre = input('Introduce el nombre del alumno: ')\n",
    "    notas = []\n",
    "    nota = int(input('Nota: '))\n",
    "    while nota > 0:\n",
    "        notas.append(nota)\n",
    "        nota = int(input('Nota: '))\n",
    "    alu[nombre] = notas.copy()\n",
    "\n",
    "for alumno, notas in alu.items():\n",
    "    notamedia = sum(notas)/len(notas)\n",
    "    print(alumno, 'ha sacado de nota media', notamedia)   "
   ]
  },
  {
   "cell_type": "markdown",
   "id": "a06f943d",
   "metadata": {},
   "source": [
    "### Ejercicios Funciones"
   ]
  },
  {
   "cell_type": "markdown",
   "id": "e3c3363f",
   "metadata": {},
   "source": [
    "#### Ejercicio 1 Funciones\n",
    "Ejercicio 7 de los apuntes:  \n",
    "Crear una subrutina llamada “Login”, que recibe un nombre de usuario y una contraseña y te devuelve Verdadero si el nombre de usuario es “usuario1” y la contraseña es “asdasd”. Además recibe el número de intentos que se ha intentado hacer login y si no se ha podido hacer login incremente este valor.\n",
    "\n",
    "Crear un programa principal donde se pida un nombre de usuario y una contraseña y se intente hacer login, solamente tenemos tres oportunidades para intentarlo."
   ]
  },
  {
   "cell_type": "code",
   "execution_count": 7,
   "id": "1a349865",
   "metadata": {},
   "outputs": [
    {
     "name": "stdout",
     "output_type": "stream",
     "text": [
      "Introduce nombre de usuario: usuario2\n",
      "Introduce contraesña: tomate\n",
      "Numero de intentos:  1\n",
      "Introduce nombre de usuario: usuario1\n",
      "Introduce contraesña: asdasd\n",
      "Bienvenido usuario1\n"
     ]
    }
   ],
   "source": [
    "def login(u,c):\n",
    "    usuario = 'usuario1'\n",
    "    contraseña = 'asdasd'\n",
    "    if(u == usuario and c == contraseña):\n",
    "        return True\n",
    "    \n",
    "    else:\n",
    "        return False\n",
    "    \n",
    "logat = 0 \n",
    "salir = False\n",
    "while(salir == False):\n",
    "    usr = str(input('Introduce nombre de usuario: '))\n",
    "    pwd = str(input('Introduce contraesña: '))\n",
    "    if(login(usr,pwd)):\n",
    "        print('Bienvenido', usr)\n",
    "        salir = True\n",
    "    else:\n",
    "        logat+=1\n",
    "        print('Numero de intentos: ', logat)\n"
   ]
  },
  {
   "cell_type": "markdown",
   "id": "d1acaa17",
   "metadata": {},
   "source": [
    "#### Ejercicio 2 Funciones\n",
    "Ejercicio 10 de los apuntes:  \n",
    "Escribir dos funciones que permitan calcular:\n",
    "\n",
    "La cantidad de segundos en un tiempo dado en horas, minutos y segundos.  \n",
    "La cantidad de horas, minutos y segundos de un tiempo dado en segundos.  \n",
    "Escribe un programa principal con un menú donde se pueda elegir la opción de convertir a segundos, convertir a horas,minutos y segundos o salir del programa."
   ]
  },
  {
   "cell_type": "code",
   "execution_count": 18,
   "id": "57b2c2a6",
   "metadata": {},
   "outputs": [
    {
     "name": "stdout",
     "output_type": "stream",
     "text": [
      "Introduce que quieres hacer \n",
      "1 - Calcular Segundos \n",
      "2 - Calcular Horas, Minutos y Segundos \n",
      "3 - Salir\n",
      "2\n",
      "50000 segundos son:  13 horas 53 minutos 20 segundos\n"
     ]
    }
   ],
   "source": [
    "def calSeg(h,m,s):\n",
    "    print (h, 'horas', m, 'minutos', s, ' segundos son:', (h*3600)+(m*3600)+ s,'segundos')\n",
    "\n",
    "def calHMS(s):\n",
    "    print (s, 'segundos son: ',s//3600,'horas' , (s//60%60), 'minutos', s%60,'segundos')\n",
    "    \n",
    "    \n",
    "opcion = int(input('Introduce que quieres hacer \\n1 - Calcular Segundos \\n2 - Calcular Horas, Minutos y Segundos \\n3 - Salir\\n'))\n",
    "if opcion == 1 :\n",
    "    calSeg(10,45,40)\n",
    "elif opcion == 2:\n",
    "    calHMS(50000)\n",
    "elif opcion == 3:\n",
    "    print('Gracias por usarme')\n",
    "else:\n",
    "    print('Introduce una opción valida')"
   ]
  },
  {
   "cell_type": "markdown",
   "id": "801b007b",
   "metadata": {},
   "source": [
    "### Otros Ejercicios\n"
   ]
  },
  {
   "cell_type": "markdown",
   "id": "66b6fd72",
   "metadata": {},
   "source": [
    "#### Ejercicio 1 Extras\n",
    "Ejercicio 2 de los apuntes:  \n",
    "El DNI (Documento Nacional de Identidad) en España está formada por 8 números y una letra. La letra nos sirve para verificar que el número es correcto, por lo tanto la letra se calcula a partir del número. Busca información de cómo se realiza el calculo y crea una función CalcularLetra que recibe un número y devuelva la letra que le corresponde.\n",
    "\n",
    "La función anterior la podemos utiliza para crear una nueva función ValidarDNI que recibe un DNI (cadena de caracteres con 8 números y una letra) que valida el DNI, es decir comprueba si la letra del DNI ces igual a la letra calculada a partir del número.\n",
    "\n",
    "Realiza un programa principal que lea un DNI y valide que es correcto (se debe comprobar también que tiene 9 caracteres)."
   ]
  },
  {
   "cell_type": "code",
   "execution_count": 31,
   "id": "8bf1d12b",
   "metadata": {},
   "outputs": [
    {
     "name": "stdout",
     "output_type": "stream",
     "text": [
      "Introduce tu dni: 123\n",
      "Introduce tu dni: 12345678N\n",
      "El dni 12345678N no es valido\n"
     ]
    }
   ],
   "source": [
    "def calLetra(n):\n",
    "    res = n%23\n",
    "    letras = ['T','R','W','A','G','M','Y','F','P','D','X','B','N','J','Z','S','Q','V','H','L','C','K','E']\n",
    "    return letras[res]\n",
    "\n",
    "def valDni(dni):\n",
    "    if dni[8] == calLetra(int(dni[:8])):\n",
    "        return True\n",
    "    return False\n",
    "while(True):\n",
    "    dni = input('Introduce tu dni: ')\n",
    "    if(len(dni) == 9):\n",
    "        break\n",
    "\n",
    "if(valDni(dni)):\n",
    "    print('El dni', dni, 'es valido')\n",
    "else:\n",
    "    print('El dni', dni, 'no es valido')\n",
    " "
   ]
  },
  {
   "cell_type": "markdown",
   "id": "5bb1b5c1",
   "metadata": {},
   "source": [
    "#### Ejercicio 2 Extras\n",
    "Ejercicio 5 de los apuntes:  \n",
    "Vamos a realizar dos funciones: una que nos permita convertir un número entero a binario, y otra que nos permita convertir un numero binario a decimal.\n",
    "\n",
    "ConvertirABinario: Función que recibe un número entero y devuelve una cadena con la representación del número en binario.\n",
    "ConvertirADecimal: Función que recibe una cadena con la representación binaria de un número y devuelve el número en decimal.\n",
    "Crea un programa principal que permita convertir de decimal a binario y de binario a decimal."
   ]
  },
  {
   "cell_type": "code",
   "execution_count": 12,
   "id": "d08a862a",
   "metadata": {},
   "outputs": [
    {
     "name": "stdout",
     "output_type": "stream",
     "text": [
      "1000\n",
      "8\n"
     ]
    }
   ],
   "source": [
    "def ConvBin(n):\n",
    "    resto = n\n",
    "    res = str(resto%2)\n",
    "    while(True):  \n",
    "        if resto >1:\n",
    "            resto //= 2\n",
    "        else:\n",
    "            return res[::-1]\n",
    "        res += str(resto%2)\n",
    "\n",
    "def ConvDec(s):\n",
    "    decimal = 0\n",
    "    exponente = 1\n",
    "\n",
    "    for caracter in s[::-1]:\n",
    "         if caracter == \"1\":\n",
    "             decimal = decimal + exponente\n",
    "         exponente = exponente * 2\n",
    "    return decimal\n",
    "\n",
    "\n",
    "print(ConvBin(8))\n",
    "print(ConvDec('1000'))"
   ]
  }
 ],
 "metadata": {
  "kernelspec": {
   "display_name": "Python 3 (ipykernel)",
   "language": "python",
   "name": "python3"
  },
  "language_info": {
   "codemirror_mode": {
    "name": "ipython",
    "version": 3
   },
   "file_extension": ".py",
   "mimetype": "text/x-python",
   "name": "python",
   "nbconvert_exporter": "python",
   "pygments_lexer": "ipython3",
   "version": "3.10.8"
  },
  "vscode": {
   "interpreter": {
    "hash": "7fa5aaafa8f2cf9321cf9fdfe87ff30241739b4efa564f53fd70848f879faad9"
   }
  }
 },
 "nbformat": 4,
 "nbformat_minor": 5
}
