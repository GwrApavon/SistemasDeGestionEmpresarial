{
 "cells": [
  {
   "cell_type": "markdown",
   "id": "8cf5bb92",
   "metadata": {},
   "source": [
    "# Instalación de Jupyter Notebook y algunos ejercicios\n"
   ]
  },
  {
   "cell_type": "markdown",
   "id": "95d62566",
   "metadata": {},
   "source": [
    "### ÍNDICE \n",
    " - [INSTALACIÓN](#Instalación)\n",
    " - [Ejercicios Estructura Secuencial](#Ejercicios-Estructura-Secuencial)  \n",
    "    - [Ejercicio 1](#Ejercicio-1-Secuencial)  \n",
    "    - [Ejercicio 2](#Ejercicio-2-Secuencial)  \n",
    " - [Ejercicios Estructura Alternativa](#Ejercicios-Estructura-Alternativa)  \n",
    "     - [Ejercicio 1](#Ejercicio-1-Alternativa)  \n",
    "     - [Ejercicio 2](#Ejercicio-2-Alternativa)  \n",
    " - [Ejercicios Estructura Repetitiva](#Ejercicios-Estructura-Repetitiva)\n",
    "     - [Ejercicio 1](#Ejercicio-1-Repetitiva)\n",
    "     - [Ejercicio 2](#Ejercicio-2-Repetitiva)"
   ]
  },
  {
   "cell_type": "markdown",
   "id": "27580863",
   "metadata": {},
   "source": [
    "## Instalación\n",
    "Nos aseguraremos de que tenemos python añadido al path de Windows. \n",
    "<br>\n",
    "Después de esto instalaremos el gestor de paquetes pip del siguiente modo:\n",
    "<br>\n",
    "`\n",
    "curl https://bootstrap.pypa.io/get-pip.py> get-pip.py\n",
    "`\n",
    "<br>\n",
    "Una vez descargado el archivo ejecutamos:\n",
    "<br>\n",
    "`\n",
    "python get-pip.py\n",
    "`\n",
    "<br>\n",
    "A continuación, será la hora de instalar Jupyter Notebook, para ello, escribimos la siguiente instrucción:\n",
    "<br>\n",
    "`\n",
    "pip install jupyter\n",
    "`\n",
    "<br>\n",
    "Mediante esta instrucción, Phyton descargará las librerías necesarias para utilizar Jupyter.\n",
    "Una vez descargadas todas las librerías, para usar Jupyter, ejecutaremos la instrucción:\n",
    "<br>\n",
    "`\n",
    "jupyter notebook\n",
    "`"
   ]
  },
  {
   "cell_type": "markdown",
   "id": "a319b26b",
   "metadata": {},
   "source": [
    "### Ejercicios Estructura Secuencial"
   ]
  },
  {
   "cell_type": "markdown",
   "id": "6692ad29",
   "metadata": {},
   "source": [
    "#### Ejercicio 1 Secuencial\n",
    "Ejercicio 7 de los apuntes:  \n",
    "Realiza un programa que reciba una cantidad de minutos y muestre por pantalla a cuantas horas y minutos corresponde. Por ejemplo: 1000 minutos corresponde a 16 horas y 40 minutos."
   ]
  },
  {
   "cell_type": "code",
   "execution_count": 1,
   "id": "1824e78f",
   "metadata": {},
   "outputs": [
    {
     "name": "stdout",
     "output_type": "stream",
     "text": [
      "Introduce una cantidad de minutos: 1000\n",
      "1000 minutos son:  16 horas y  40 minutos\n"
     ]
    }
   ],
   "source": [
    "minutos = int(input('Introduce una cantidad de minutos: '))\n",
    "print (minutos, 'minutos son: ' , (minutos // 60), 'horas y ', minutos % 60, 'minutos')"
   ]
  },
  {
   "cell_type": "markdown",
   "id": "7c8f981b",
   "metadata": {},
   "source": [
    "#### Ejercicio 2 Secuencial\n",
    "Ejercicio 18 de los apuntes:   \n",
    "Pedir el nombre y los dos apellidos de una persona y mostrar las iniciales."
   ]
  },
  {
   "cell_type": "code",
   "execution_count": 3,
   "id": "073b7d9d",
   "metadata": {},
   "outputs": [
    {
     "name": "stdout",
     "output_type": "stream",
     "text": [
      "Introduce tu nombre: Ángel\n",
      "Introduce tu primer apellido: Pavón\n",
      "Introduce tu segundo apellido: Fraile\n",
      "Las iniciales de tu nombre son:  Á P F\n"
     ]
    }
   ],
   "source": [
    "nombre = str(input('Introduce tu nombre: '))\n",
    "a1 = str(input('Introduce tu primer apellido: '))\n",
    "a2 = str(input('Introduce tu segundo apellido: '))\n",
    "print('Las iniciales de tu nombre son: ', nombre[0], a1[0], a2[0] )"
   ]
  },
  {
   "cell_type": "markdown",
   "id": "85c2868f",
   "metadata": {},
   "source": [
    "### Ejercicios Estructura Alternativa"
   ]
  },
  {
   "cell_type": "markdown",
   "id": "0cb53429",
   "metadata": {},
   "source": [
    "#### Ejercicio 1\n",
    "Ejercicio 6 de los apuntes:  \n",
    "Programa que lea una cadena por teclado y compruebe si es una letra mayúscula."
   ]
  },
  {
   "cell_type": "code",
   "execution_count": 12,
   "id": "bd1c6b3d",
   "metadata": {},
   "outputs": [
    {
     "name": "stdout",
     "output_type": "stream",
     "text": [
      "Introduce una palabra: palabra\n",
      "La letra es minúscula\n"
     ]
    }
   ],
   "source": [
    "palabra = str(input('Introduce una palabra: '))\n",
    "if palabra[0]>='A' and palabra[0] <= 'Z':\n",
    "    print('La letra es mayúscula')\n",
    "else:\n",
    "    print('La letra es minúscula')"
   ]
  },
  {
   "cell_type": "markdown",
   "id": "690cffb1",
   "metadata": {},
   "source": [
    "#### Ejercicio 2\n",
    "Ejercicio 9 de los apuntes:  \n",
    "Algoritmo que pida tres números y los muestre ordenados (de mayor a menor)."
   ]
  },
  {
   "cell_type": "code",
   "execution_count": 26,
   "id": "7676c842",
   "metadata": {},
   "outputs": [
    {
     "name": "stdout",
     "output_type": "stream",
     "text": [
      "Introduce el primer número: 9\n",
      "Introduce el segundo número: 6\n",
      "Introduce el tercer número: 4\n",
      "9 6 4\n"
     ]
    }
   ],
   "source": [
    "num1 = int(input('Introduce el primer número: '))\n",
    "num2 = int(input('Introduce el segundo número: '))\n",
    "num3 = int(input('Introduce el tercer número: '))\n",
    "\n",
    "if num1 > num2 and num2 > num3:\n",
    "    print(num1 , num2 , num3)\n",
    "elif num1 > num3 and num2 < num3:\n",
    "    print(num1, num3, num2)\n",
    "elif num1 < num2 and num1 > num3:\n",
    "    print(num2, num1, num3)\n",
    "elif num1 < num3 and num2 > num3:\n",
    "    print(num2 , num3 , num1)\n",
    "elif num1 < num3 and num1 < num2:\n",
    "    print(num3 , num2 , num1)\n",
    "else:\n",
    "    print(num3 , num1, num2)\n"
   ]
  },
  {
   "cell_type": "markdown",
   "id": "b3357f79",
   "metadata": {},
   "source": [
    "### Ejercicios Estructura Repetitiva "
   ]
  },
  {
   "cell_type": "markdown",
   "id": "20b1aa2e",
   "metadata": {},
   "source": [
    "#### Ejercicio 1 Repetitiva\n",
    "Ejercicio 4 de los apuntes:  \n",
    "Realizar un algoritmo que pida números (se pedirá por teclado la cantidad de números a introducir). El programa debe informar de cuantos números introducidos son mayores que 0, menores que 0 e iguales a 0."
   ]
  },
  {
   "cell_type": "markdown",
   "id": "291d3ebe",
   "metadata": {},
   "source": [
    "#### For:"
   ]
  },
  {
   "cell_type": "code",
   "execution_count": 35,
   "id": "e8f65f2b",
   "metadata": {},
   "outputs": [
    {
     "name": "stdout",
     "output_type": "stream",
     "text": [
      "Introduce cuantos números quieres: 6\n",
      "Introduce un número: -2\n",
      "Introduce un número: -1\n",
      "Introduce un número: 0\n",
      "Introduce un número: 0\n",
      "Introduce un número: 1\n",
      "Introduce un número: 2\n",
      "Números mayores que 0:  2 ; Números menores que 0:  2 ; Números iguales a 0 2\n"
     ]
    }
   ],
   "source": [
    "cant = int(input('Introduce cuantos números quieres: '))\n",
    "mayor = 0 \n",
    "menor = 0\n",
    "igual = 0\n",
    "for i in range (0,cant):\n",
    "    num = int(input('Introduce un número: '))\n",
    "    if num > 0:\n",
    "        mayor += 1\n",
    "    elif num == 0:\n",
    "        igual += 1\n",
    "    else: \n",
    "        menor += 1\n",
    "    \n",
    "print ('Números mayores que 0: ',mayor, '; Números menores que 0: ',menor,'; Números iguales a 0' ,igual)"
   ]
  },
  {
   "cell_type": "markdown",
   "id": "108d5de4",
   "metadata": {},
   "source": [
    "#### While:"
   ]
  },
  {
   "cell_type": "code",
   "execution_count": 69,
   "id": "f1484215",
   "metadata": {},
   "outputs": [
    {
     "name": "stdout",
     "output_type": "stream",
     "text": [
      "Introduce cuantos números quieres: 6\n",
      "Introduce un número: -2\n",
      "Introduce un número: -1\n",
      "Introduce un número: 0\n",
      "Introduce un número: 0\n",
      "Introduce un número: 1\n",
      "Introduce un número: 2\n",
      "Números mayores que 0:  2 ; Números menores que 0:  2 ; Números iguales a 0 2\n"
     ]
    }
   ],
   "source": [
    "cant = int(input('Introduce cuantos números quieres: '))\n",
    "mayor = 0 \n",
    "menor = 0\n",
    "igual = 0\n",
    "i = 0\n",
    "while i < cant:\n",
    "    num = int(input('Introduce un número: '))\n",
    "    if num > 0:\n",
    "        mayor += 1\n",
    "    elif num == 0:\n",
    "        igual += 1\n",
    "    else: \n",
    "        menor += 1\n",
    "    i += 1\n",
    "print ('Números mayores que 0: ',mayor, '; Números menores que 0: ',menor,'; Números iguales a 0' ,igual)"
   ]
  },
  {
   "cell_type": "markdown",
   "id": "8a581912",
   "metadata": {},
   "source": [
    "#### Ejercicio 2 Repetitiva\n",
    "Ejercicio 11 de los apuntes:  \n",
    "Escribe un programa que diga si un número introducido por teclado es o no primo. Un número primo es aquel que sólo es divisible entre él mismo y la unidad. Nota: Es suficiente probar hasta la raíz cuadrada del número para ver si es divisible por algún otro número."
   ]
  },
  {
   "cell_type": "markdown",
   "id": "0f60e8ca",
   "metadata": {},
   "source": [
    "#### For:"
   ]
  },
  {
   "cell_type": "code",
   "execution_count": 66,
   "id": "f28c78e7",
   "metadata": {},
   "outputs": [
    {
     "name": "stdout",
     "output_type": "stream",
     "text": [
      "Introduce un número para saber si es primo: 182471908343\n",
      "El número  182471908343  es primo\n"
     ]
    }
   ],
   "source": [
    "num = int(input('Introduce un número para saber si es primo: '))\n",
    "auxnum = num\n",
    "raiz = int(pow(num,1/2))\n",
    "cont = 0\n",
    "\n",
    "for i in range(2, raiz):\n",
    "\n",
    "    if num%i == 0:\n",
    "        cont += 1\n",
    "    \n",
    "num = auxnum\n",
    "if cont == 0:\n",
    "    print('El número ', num, ' es primo')\n",
    "    \n",
    "else:\n",
    "    print('El número ', num, ' no es primo')"
   ]
  },
  {
   "cell_type": "markdown",
   "id": "29a38e9d",
   "metadata": {},
   "source": [
    "#### While:"
   ]
  },
  {
   "cell_type": "code",
   "execution_count": 70,
   "id": "b284235e",
   "metadata": {},
   "outputs": [
    {
     "name": "stdout",
     "output_type": "stream",
     "text": [
      "Introduce un número para saber si es primo: 127\n",
      "El número  127  es primo\n"
     ]
    }
   ],
   "source": [
    "num = int(input('Introduce un número para saber si es primo: '))\n",
    "auxnum = num\n",
    "raiz = int(pow(num,1/2))\n",
    "cont = 0\n",
    "i = 2\n",
    "while i < raiz:\n",
    "\n",
    "    if num%i == 0:\n",
    "        cont += 1\n",
    "    i += 1\n",
    "num = auxnum\n",
    "if cont == 0:\n",
    "    print('El número ', num, ' es primo')\n",
    "    \n",
    "else:\n",
    "    print('El número ', num, ' no es primo')"
   ]
  }
 ],
 "metadata": {
  "kernelspec": {
   "display_name": "Python 3 (ipykernel)",
   "language": "python",
   "name": "python3"
  },
  "language_info": {
   "codemirror_mode": {
    "name": "ipython",
    "version": 3
   },
   "file_extension": ".py",
   "mimetype": "text/x-python",
   "name": "python",
   "nbconvert_exporter": "python",
   "pygments_lexer": "ipython3",
   "version": "3.10.8"
  }
 },
 "nbformat": 4,
 "nbformat_minor": 5
}
