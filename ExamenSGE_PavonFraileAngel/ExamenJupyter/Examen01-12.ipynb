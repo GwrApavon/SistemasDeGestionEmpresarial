{
 "cells": [
  {
   "cell_type": "markdown",
   "id": "106f446b",
   "metadata": {},
   "source": [
    "# Exámen 01/12/2022 SGE\n",
    "El exámen consta de un total de 25 puntos, de los que se muestra la puntuación a continuación "
   ]
  },
  {
   "cell_type": "markdown",
   "id": "f69d5b1e",
   "metadata": {},
   "source": [
    "## Ejercicio 1 \n",
    "Crea un menú, de manera que se enlacen todos los ejercicios que se pidan en esta libreta. Crea el menú antes de este ejercicio (incluído este ejercicio) (**1 punto**)"
   ]
  },
  {
   "cell_type": "markdown",
   "id": "fdd6dbce",
   "metadata": {},
   "source": [
    "### Indice (Ejercicio1)\n",
    "\n",
    "- [Ejercicio 1](#Ejercicio-1)\n",
    "- [Ejercicio 2](#Ejercicio-2)\n",
    "- [Ejercicio 3](#Ejercicio-3)\n",
    "- [Ejercicio 4](#Ejercicio-4)\n",
    "- [Ejercicio 5](#Ejercicio-5)\n",
    "- [Ejercicio 6](#Ejercicio-6)\n",
    "- [Ejercicio 7](#Ejercicio-7)\n",
    "- [Ejercicio 8](#Ejercicio-8)\n",
    "- [Ejercicio 9](#Ejercicio-9)\n",
    "- [Ejercicio 10](#Ejercicio-10)\n",
    "- [Ejercicio 11](#Ejercicio-11)\n"
   ]
  },
  {
   "cell_type": "markdown",
   "id": "637a2c97",
   "metadata": {},
   "source": [
    "## Ejercicio 2 \n",
    "Crea una función que fuerce a un usuario a devolver un valor entre 90 y 110. La función debe tener por nombre **pideNúmero** (**1 punto**)"
   ]
  },
  {
   "cell_type": "code",
   "execution_count": 7,
   "id": "e1db637a",
   "metadata": {},
   "outputs": [
    {
     "name": "stdout",
     "output_type": "stream",
     "text": [
      "Introduce un número entre el 90 y el 110: 85\n",
      "Número no válido\n",
      "Introduce un número entre el 90 y el 110: 111\n",
      "Número no válido\n",
      "Introduce un número entre el 90 y el 110: 91\n",
      "91\n"
     ]
    }
   ],
   "source": [
    "def pideNumero():\n",
    "    num = 0\n",
    "    while num < 90 or num > 110:\n",
    "        num = int(input('Introduce un número entre el 90 y el 110: '))\n",
    "        if num < 90 or num > 110:\n",
    "            print('Número no válido')\n",
    "        else:\n",
    "            return num\n",
    "        \n",
    "print(pideNumero()) #Para comprobar que funciona"
   ]
  },
  {
   "cell_type": "markdown",
   "id": "a06d8b03",
   "metadata": {},
   "source": [
    "## Ejercicio 3\n",
    "Crea una función de manera que dado un número entero por parámetro devuelva una lista del tamaño dado por parámetro. Cada uno de los valores de la lista debe ser un número aleatorio entre 0 y el número pasado por parámetro. La función debe tener por nombre **generaListaAleatoria** (**1 punto**)"
   ]
  },
  {
   "cell_type": "code",
   "execution_count": 15,
   "id": "70c64f08",
   "metadata": {},
   "outputs": [
    {
     "name": "stdout",
     "output_type": "stream",
     "text": [
      "Introduce un número entre el 90 y el 110: 91\n",
      "84 39 24 79 3 2 70 11 9 0 9 80 87 45 5 58 53 87 11 26 43 48 28 51 39 0 28 83 53 68 64 3 45 91 84 2 5 73 21 34 78 27 27 85 61 40 22 42 83 81 57 23 83 81 12 58 55 91 91 25 66 69 89 17 60 69 69 18 8 17 59 49 29 11 11 56 38 40 34 27 88 60 19 2 83 64 78 42 81 49 73\n"
     ]
    }
   ],
   "source": [
    "import random\n",
    "#numero = pideNumero()\n",
    "numero = pideNumero()\n",
    "\n",
    "#listaAleatoria = generaListaAleatoria(numero)\n",
    "def generaListaAleatoria(numero):\n",
    "    listaAleatoria = []\n",
    "    for i in range (numero):\n",
    "        listaAleatoria.append(random.randint(0,numero + 1)) #supongo que random no cuenta el ultimo numero por lo que pongo +1\n",
    "    return listaAleatoria\n",
    "\n",
    "listaAleatoria = generaListaAleatoria(numero)\n",
    "print(*listaAleatoria) #Comprobación de que funcione"
   ]
  },
  {
   "cell_type": "markdown",
   "id": "1b7cea53",
   "metadata": {},
   "source": [
    "## Ejercicio 4\n",
    "Crea una función que tenga por parámetro una lista (será del tipo **listaAleatoria**) y devuelva una lista de elementos repetidos en la lista. \n",
    "\n",
    "Ej: Si mi lista es [1,2,2,3,4,5,5,6], la función debe devolver [2,5]. La función tendrá por nombre **elementosRepetidos** (**1 puntos**)\n"
   ]
  },
  {
   "cell_type": "code",
   "execution_count": 19,
   "id": "6de96636",
   "metadata": {},
   "outputs": [
    {
     "name": "stdout",
     "output_type": "stream",
     "text": [
      "Introduce un número entre el 90 y el 110: 90\n",
      "43 81 73 6 76 69 91 85 16 85 91 77 48 51 9 6 79 62 83 20 28 61 48 16 91 47 77 12\n"
     ]
    }
   ],
   "source": [
    "def elementosRepetidos(listaAleatoria):\n",
    "    listaNuevos = []\n",
    "    listaRepetidos = []\n",
    "    for i in range(len(listaAleatoria)):\n",
    "        if listaAleatoria[i] in listaNuevos:\n",
    "            listaRepetidos.append(listaAleatoria[i])\n",
    "        else:\n",
    "            listaNuevos.append(listaAleatoria[i])\n",
    "    \n",
    "    return listaRepetidos\n",
    "\n",
    "listaRepetidos = elementosRepetidos(generaListaAleatoria(pideNumero()))\n",
    "print(*listaRepetidos)\n",
    "        \n",
    "    "
   ]
  },
  {
   "cell_type": "markdown",
   "id": "d32dc9c7",
   "metadata": {},
   "source": [
    "## Ejercicio 5 \n",
    "Crea una función que tenga por parámetro una lista (será del tipo **listaAleatoria**), y devuelva una lista con los valores enteros de tamaño menor o igual que el tamaño de la lista que no aparecen en la lista. La función tendrá por nombre **elementosFaltantes** (**1 punto**)"
   ]
  },
  {
   "cell_type": "code",
   "execution_count": 25,
   "id": "e65fa97d",
   "metadata": {},
   "outputs": [
    {
     "name": "stdout",
     "output_type": "stream",
     "text": [
      "3 10 6 2 4 0 4 4 3 4\n",
      "1 5 7 8 9\n"
     ]
    }
   ],
   "source": [
    "def elementosFaltantes(listaAleatoria):\n",
    "    listaFaltantes = []\n",
    "    \n",
    "    for i in range(len(listaAleatoria)):\n",
    "        if i not in listaAleatoria:\n",
    "            listaFaltantes.append(i)\n",
    "    return listaFaltantes\n",
    "\n",
    "lista = generaListaAleatoria(10)#pongo 10 para comprobar que funcione\n",
    "listaFaltantes = elementosFaltantes(lista) #comprobación\n",
    "print(*lista)\n",
    "print(*listaFaltantes)"
   ]
  },
  {
   "cell_type": "markdown",
   "id": "d9bad251",
   "metadata": {},
   "source": [
    "## Ejercicio 6 \n",
    "**Haciendo uso de las dos funciones anteriores**, crea una función que devuelva los elementos que solo aparecen una vez en listaAleatoria. La función tendrá por nombre **elementosUnicos** (**1 punto**)"
   ]
  },
  {
   "cell_type": "code",
   "execution_count": 30,
   "id": "353f7e85",
   "metadata": {},
   "outputs": [
    {
     "name": "stdout",
     "output_type": "stream",
     "text": [
      "6 10 11 11 10 8 3 2 6 3\n",
      "8 2\n"
     ]
    }
   ],
   "source": [
    "def elementosUnicos(listaAleatoria):\n",
    "    listaRepetidos = elementosRepetidos(listaAleatoria)\n",
    "    listaFaltantes = elementosFaltantes(listaAleatoria)\n",
    "    listaUnicos = []\n",
    "    for i in range (len(listaAleatoria)):\n",
    "        if listaAleatoria[i] not in listaRepetidos and listaAleatoria[i] not in listaFaltantes:\n",
    "            listaUnicos.append(listaAleatoria[i])\n",
    "    return listaUnicos\n",
    "    \n",
    "    \n",
    "listaAleatoria = generaListaAleatoria(10)#pongo 10 para que se vea facil\n",
    "listaUnicos = elementosUnicos(listaAleatoria)\n",
    "\n",
    "print(*listaAleatoria)\n",
    "print(*listaUnicos)"
   ]
  },
  {
   "cell_type": "markdown",
   "id": "0d41b817",
   "metadata": {},
   "source": [
    "## Ejercicio 7\n",
    "Crea una función de modo que tenga por parámetro una lista (será del tipo **listaAleatoria**) y devuelva un diccionario que tenga por clave un el número de veces que aparece un número y por valor una lista con los números que aparecen repetidos en la lista ese número de veces **diccionarioCuenta** (**2 puntos**)"
   ]
  },
  {
   "cell_type": "code",
   "execution_count": 1,
   "id": "b6ce0ad9",
   "metadata": {},
   "outputs": [
    {
     "ename": "NameError",
     "evalue": "name 'generaListaAleatoria' is not defined",
     "output_type": "error",
     "traceback": [
      "\u001b[1;31m---------------------------------------------------------------------------\u001b[0m",
      "\u001b[1;31mNameError\u001b[0m                                 Traceback (most recent call last)",
      "Cell \u001b[1;32mIn [1], line 17\u001b[0m\n\u001b[0;32m     14\u001b[0m         diccionario\u001b[38;5;241m.\u001b[39mupdate(d)\n\u001b[0;32m     15\u001b[0m     \u001b[38;5;28;01mreturn\u001b[39;00m diccionario\n\u001b[1;32m---> 17\u001b[0m listaAleatoria \u001b[38;5;241m=\u001b[39m \u001b[43mgeneraListaAleatoria\u001b[49m(\u001b[38;5;241m50\u001b[39m)\n\u001b[0;32m     18\u001b[0m diccionarioA \u001b[38;5;241m=\u001b[39m diccionarioCuenta(listaAleatoria)\n\u001b[0;32m     20\u001b[0m \u001b[38;5;28;01mfor\u001b[39;00m campo,valor \u001b[38;5;129;01min\u001b[39;00m diccionarioA\u001b[38;5;241m.\u001b[39mitems():\n",
      "\u001b[1;31mNameError\u001b[0m: name 'generaListaAleatoria' is not defined"
     ]
    }
   ],
   "source": [
    "def diccionarioCuenta(listaAleatoria): #Solo guarda el ultimo número que ha tenido esa cantidad de repeticiones\n",
    "    diccionario = {}\n",
    "    listaRepetidos = elementosRepetidos(listaAleatoria)\n",
    "    listaUnicos = elementosUnicos(listaAleatoria)\n",
    "    for x in range (len(listaRepetidos)):\n",
    "        cont = 0\n",
    "        for i in range (len(listaAleatoria)):\n",
    "            if listaRepetidos[x] == listaAleatoria[i]:\n",
    "                    cont +=1\n",
    "        d = {cont : x}\n",
    "        diccionario.update(d)\n",
    "    for i in range (len(listaUnicos)):\n",
    "        d = {1 : listaUnicos[i]}\n",
    "        diccionario.update(d)\n",
    "    return diccionario\n",
    "                 \n",
    "listaAleatoria = generaListaAleatoria(50)\n",
    "diccionarioA = diccionarioCuenta(listaAleatoria)\n",
    "                    \n",
    "for campo,valor in diccionarioA.items():\n",
    "    print(campo, \":\", valor)        "
   ]
  },
  {
   "cell_type": "markdown",
   "id": "3641780f",
   "metadata": {},
   "source": [
    "## Ejercicio 8\n",
    "Crea una función que devuelva una lista bidimensional aleatoria de tamaño 16x16 en los que cada uno de los elementos de la lista sea un caracter ASCII aleatorio (hay un total de 256 caracteres ASCII). Tal función se deberá llamar **aleatoriaASCII** (**1punto**)\n",
    "\n",
    "**Pista :**  Puedes tener en cuenta que la función chr() convierte un entero a un caracter y que la función ord() convierte un caracter a un entero"
   ]
  },
  {
   "cell_type": "code",
   "execution_count": 3,
   "id": "8545a8fc",
   "metadata": {},
   "outputs": [],
   "source": [
    "# aleatoriaAscii = aleatoriaAscii()"
   ]
  },
  {
   "cell_type": "markdown",
   "id": "1620e3c4",
   "metadata": {},
   "source": [
    "## Ejercicio 9 \n",
    "Crea una función que dada una lista bidimensional (del tipo lista aleatoriaAscii), represente los números correspondientes a los caracteres ASCII de la matriz. Debe quedar alineada y siguiendo el mismo formato de la imagen que aparece a continuación. Llamarás a la función **muestraMatrizAscii**. Crea algún método adicional si lo consideras necesario (**3 puntos**)"
   ]
  },
  {
   "cell_type": "markdown",
   "id": "0435bb23",
   "metadata": {},
   "source": [
    " <img src=\"matriz.png\" alt=\"Matriz ascii aleatoria\" title=\"Title text\" />"
   ]
  },
  {
   "cell_type": "markdown",
   "id": "df2e3df8",
   "metadata": {},
   "source": [
    "## Ejercicio 10\n",
    "Para la realización de este ejercicio utilizaremos VSCode. Recuerda que todos los atributos de las clases que creemos deben ser privados y todos los métodos deben ser públicos. Crearemos todas las clases en una misma carpeta.\n",
    "\n",
    "### Clase vehículo\n",
    "Es una clase que tendrá los atributos que se muestran en el diagrama uml. \n",
    "- El método aString devolverá un string que represente todos los datos del coche\n",
    "- Los métodos acelerar y frenar cambiarán la velocidad del vehículo según el parámetro de entrada (que supondremos por simplicidad que es positivo). El vehículo nunca podrá superar la velocidad máxima ni tener una velocidad inferior a 0.\n",
    "\n",
    "### Clase moto\n",
    "Deriva de clase vehículo. Al implemetar esta clase, el parámetro ruedas debe ser 2 automáticamente. \n",
    "- El método caballito simplemnte muestra por pantalla. \"Puedo hacer caballitos\"\n",
    "\n",
    "### Clase bicicleta\n",
    "Deriva de clase vehículo. Al implemetar esta clase, el parámetro ruedas debe ser 2 automáticamente. \n",
    "- El pedales simplemnte muestra por pantalla. \"Voy a pedales\"\n",
    "\n",
    "### Clase coche\n",
    "Deriva de clase vehículo. Al implemetar esta clase, el parámetro ruedas debe ser 4 automáticamente. \n",
    "- El método marchaAtras() pone a -10 la velocidad del coche, solamente si la velocidad del coche es 0.\n",
    "\n",
    "### Clase garaje\n",
    "Estará formada por una lista de vehículos y numVehiculos, que representará el tamaño de la lista\n",
    "- Los métodos totalKilometros() y totalCombustible() devolverán el número total kilómetros y combustible de los vehículos del garaje\n",
    "- El método añadirVehiculo(vehiculo) añadirá un vehículo al parámetro vehiculos y aumentará en 1 numVehiculos\n",
    "- El método quitarVehiculo(matricula) quitará el vehículo con la matrícula determinada de la lista disminuirá en 1 numVehiculos siempre que exista un vehículo con la matrícula dada. Si no existe un vehículo con la matrícula dada, no hará nada el método\n",
    "\n",
    "### Clase principal\n",
    "Ejecuta una clase principal en la que crees un vehículo de cada (1 bici, una moto y un coche, todos con velocidad inicial 0) y un garaje con esos 3 vehículos\n",
    "\n",
    "Se deja a continuación un diagrama UML que representa al ejercicio\n",
    "\n",
    "(**8 puntos**)\n",
    "\n",
    "\n",
    "\n",
    "\n"
   ]
  },
  {
   "cell_type": "markdown",
   "id": "fa166e72",
   "metadata": {},
   "source": [
    " <img src=\"diagrama.png\" alt=\"Diagrama UML\" title=\"Title text\" />"
   ]
  },
  {
   "cell_type": "markdown",
   "id": "5ab15554",
   "metadata": {},
   "source": [
    "## Ejercicio 11\n",
    "Adjunta imágenes (debe aparecer en la captura de pantalla el día y la fecha de hoy) en las que (**2 puntos**):\n",
    "- Muestres que te conectas por SSH a un servidor odoo \n",
    "- Muestres que está funcionando correctamente la página web de odoo\n",
    "- Muestres como pones odoo en modo desarrollador\n",
    "- Crea un módulo en Odoo llamado patata y muestra como aparece en la página web de odoo"
   ]
  },
  {
   "cell_type": "markdown",
   "id": "4f08c17c",
   "metadata": {},
   "source": [
    "### Capturas:\n",
    "ssh:\n",
    "<img src=\"conexionSSH.png\" alt=\"Diagrama UML\" title=\"Title text\" />\n",
    "funcionamiento:\n",
    "<img src=\"FuncionamientoOdoo.png\" alt=\"Diagrama UML\" title=\"Title text\" />\n",
    "modo debug:\n",
    "<img src=\"modoDebug.png\" alt=\"Diagrama UML\" title=\"Title text\" />"
   ]
  }
 ],
 "metadata": {
  "kernelspec": {
   "display_name": "Python 3 (ipykernel)",
   "language": "python",
   "name": "python3"
  },
  "language_info": {
   "codemirror_mode": {
    "name": "ipython",
    "version": 3
   },
   "file_extension": ".py",
   "mimetype": "text/x-python",
   "name": "python",
   "nbconvert_exporter": "python",
   "pygments_lexer": "ipython3",
   "version": "3.10.8"
  },
  "vscode": {
   "interpreter": {
    "hash": "7fa5aaafa8f2cf9321cf9fdfe87ff30241739b4efa564f53fd70848f879faad9"
   }
  }
 },
 "nbformat": 4,
 "nbformat_minor": 5
}
